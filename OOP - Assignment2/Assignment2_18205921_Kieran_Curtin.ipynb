{
 "cells": [
  {
   "cell_type": "code",
   "execution_count": 1,
   "metadata": {},
   "outputs": [
    {
     "name": "stdout",
     "output_type": "stream",
     "text": [
      "{1: {1, 2, 3, 4, 5, 6, 7, 8}, 2: {1, 9, 10, 11, 12, 13, 14, 15}, 3: {1, 16, 17, 18, 19, 20, 21, 22}, 4: {1, 23, 24, 25, 26, 27, 28, 29}, 5: {32, 1, 33, 34, 35, 36, 30, 31}, 6: {1, 37, 38, 39, 40, 41, 42, 43}, 7: {1, 44, 45, 46, 47, 48, 49, 50}, 8: {1, 51, 52, 53, 54, 55, 56, 57}, 9: {2, 37, 9, 44, 16, 51, 23, 30}, 10: {2, 38, 10, 45, 17, 52, 24, 31}, 11: {32, 2, 39, 11, 46, 18, 53, 25}, 12: {33, 2, 40, 12, 47, 19, 54, 26}, 13: {34, 2, 41, 13, 48, 20, 55, 27}, 14: {2, 35, 42, 14, 49, 21, 56, 28}, 15: {2, 36, 43, 15, 50, 22, 57, 29}, 16: {33, 3, 9, 41, 17, 49, 25, 57}, 17: {34, 3, 10, 42, 18, 50, 51, 26}, 18: {3, 35, 11, 43, 44, 19, 52, 27}, 19: {3, 36, 37, 12, 45, 20, 53, 28}, 20: {3, 38, 13, 46, 21, 54, 29, 30}, 21: {3, 39, 14, 47, 55, 22, 23, 31}, 22: {32, 3, 40, 15, 16, 48, 24, 56}, 23: {4, 36, 38, 9, 47, 18, 56, 27}, 24: {4, 39, 10, 48, 19, 57, 28, 30}, 25: {4, 40, 11, 49, 51, 20, 29, 31}, 26: {32, 4, 41, 12, 50, 52, 21, 23}, 27: {33, 4, 42, 44, 13, 53, 22, 24}, 28: {34, 4, 43, 45, 14, 16, 54, 25}, 29: {35, 4, 37, 46, 15, 17, 55, 26}, 30: {32, 5, 9, 42, 45, 19, 55, 29}, 31: {33, 5, 10, 43, 46, 20, 23, 56}, 32: {34, 5, 37, 11, 47, 21, 24, 57}, 33: {35, 5, 38, 12, 48, 51, 22, 25}, 34: {36, 5, 39, 13, 16, 49, 52, 26}, 35: {5, 40, 14, 17, 50, 53, 27, 30}, 36: {5, 41, 44, 15, 18, 54, 28, 31}, 37: {35, 6, 39, 9, 50, 20, 54, 24}, 38: {36, 6, 40, 10, 44, 21, 55, 25}, 39: {6, 41, 11, 45, 22, 56, 26, 30}, 40: {6, 42, 12, 46, 16, 57, 27, 31}, 41: {32, 6, 43, 13, 47, 17, 51, 28}, 42: {33, 37, 6, 14, 48, 18, 52, 29}, 43: {34, 6, 38, 15, 49, 19, 53, 23}, 44: {7, 9, 43, 48, 21, 53, 26, 31}, 45: {32, 37, 7, 10, 49, 22, 54, 27}, 46: {33, 38, 7, 11, 16, 50, 55, 28}, 47: {34, 7, 39, 12, 44, 17, 56, 29}, 48: {35, 7, 40, 13, 45, 18, 23, 57}, 49: {36, 7, 41, 14, 46, 19, 51, 24}, 50: {7, 42, 15, 47, 20, 52, 25, 30}, 51: {34, 8, 9, 40, 46, 52, 22, 28}, 52: {35, 8, 41, 10, 47, 16, 53, 29}, 53: {36, 8, 42, 11, 48, 17, 54, 23}, 54: {8, 43, 12, 49, 18, 55, 24, 30}, 55: {37, 8, 13, 50, 19, 56, 25, 31}, 56: {32, 38, 8, 44, 14, 20, 57, 26}, 57: {33, 39, 8, 45, 15, 51, 21, 27}}\n"
     ]
    }
   ],
   "source": [
    "#here I have altered the code that was provided for making a valid deck.\n",
    "#I have made a dictionary called \"deck\", and add keys (numbers) and values (sets representing emoji values) \n",
    "\n",
    "nIm = 8\n",
    "n = nIm - 1\n",
    "r = range(n)\n",
    "rp1 = range(n+1)\n",
    "c = 0\n",
    "\n",
    "# First card\n",
    "c += 1\n",
    "deck = dict()\n",
    "card = set()\n",
    "for i in rp1:\n",
    "    card.add(i+1)\n",
    "deck[c]= card\n",
    "\n",
    "# n following cards\n",
    "for j in r:\n",
    "    c = c+1\n",
    "    card = set()\n",
    "    card.add(1)\n",
    "    for k in r:\n",
    "        card.add(n+2 + n*j +k)\n",
    "    deck[c] = card\n",
    "\n",
    "# n x n following cards\n",
    "for i in r:\n",
    "    for j in r:\n",
    "        c = c+1\n",
    "        card = set()\n",
    "        card.add(i+2)\n",
    "        for k in r:\n",
    "            card.add((n+1 +n*k + (i*k+j) % n)+1)\n",
    "        deck[c] = card\n",
    "print(deck)"
   ]
  },
  {
   "cell_type": "code",
   "execution_count": 2,
   "metadata": {},
   "outputs": [
    {
     "name": "stdout",
     "output_type": "stream",
     "text": [
      "1 👽 2 🐕 3 🐱 4 🚑 5 🚓 6 🐼 7 🐶 8 🐸 9 🐴 10 🐰 11 🐭 12 🐬 13 🐢 14 🐝 15 🐜 16 🐌 17 🏆 18 🎺 19 🎸 20 🎵 21 🎲 22 🎩 23 🎈 24 🎀 25 🍺 26 🍦 27 🍓 28 🍒 29 🍉 30 🍄 31 🍀 32 🌴 33 🌵 34 🌈 35 👻 36 🍎 37 🍌 38 🌟 39 🌹 40 🌊 41 🌋 42 ⛺ 43 ⛄ 44 ⚽ 45 ⚓ 46 ⏰ 47 🚽 48 🚲 49 🚤 50 🚢 51 🚒 52 🚀 53 👸 54 ⛷ 55 💔 56 💧 57 ✊ 58 👹 "
     ]
    }
   ],
   "source": [
    "#This is the code that was provided to us on Moodle.\n",
    "\n",
    "import emoji\n",
    "imageDict = dict()\n",
    "fin = open('emoji_names.txt',\"r\")\n",
    "lines = fin.readlines()\n",
    "for i, el in enumerate(lines):\n",
    "    imageDict[i+1] = emoji.emojize(el.strip())\n",
    "    print(i+1,imageDict[i+1],end=' ')"
   ]
  },
  {
   "cell_type": "code",
   "execution_count": 3,
   "metadata": {},
   "outputs": [
    {
     "name": "stdout",
     "output_type": "stream",
     "text": [
      "{1: {'🐶', '🐱', '🐼', '🐕', '🚓', '🚑', '👽', '🐸'}, 2: {'🐴', '🐢', '🐬', '🐝', '🐭', '🐰', '👽', '🐜'}, 3: {'🎲', '🎵', '🐌', '🎸', '🎺', '🏆', '🎩', '👽'}, 4: {'🍓', '🍒', '🎈', '🎀', '🍺', '🍉', '🍦', '👽'}, 5: {'🍎', '🌵', '🍄', '🌈', '🍀', '👽', '👻', '🌴'}, 6: {'🌋', '⛺', '🌹', '🌊', '🌟', '🍌', '👽', '⛄'}, 7: {'🚽', '🚲', '🚢', '⚓', '🚤', '⏰', '⚽', '👽'}, 8: {'💧', '👸', '💔', '🚒', '⛷', '✊', '👽', '🚀'}, 9: {'🐴', '🐌', '🎈', '🐕', '🍄', '🚒', '🍌', '⚽'}, 10: {'🏆', '⚓', '🐕', '🌟', '🎀', '🍀', '🐰', '🚀'}, 11: {'🐭', '🎺', '👸', '🌹', '🐕', '🍺', '⏰', '🌴'}, 12: {'🚽', '🐬', '🎸', '🌵', '🌊', '🐕', '🍦', '⛷'}, 13: {'🌋', '🐢', '🎵', '🍓', '🚲', '🐕', '💔', '🌈'}, 14: {'💧', '🎲', '⛺', '🐝', '🍒', '🐕', '🚤', '👻'}, 15: {'🍎', '🚢', '🐕', '🍉', '🎩', '✊', '⛄', '🐜'}, 16: {'🌋', '🐴', '🐱', '🏆', '🌵', '🍺', '🚤', '✊'}, 17: {'⛺', '🐱', '🚢', '🎺', '🌈', '🚒', '🐰', '🍦'}, 18: {'🐱', '🐭', '🎸', '🍓', '⚽', '👻', '⛄', '🚀'}, 19: {'🍎', '🎵', '🐬', '🐱', '👸', '🍒', '⚓', '🍌'}, 20: {'🎲', '🐢', '🐱', '🍉', '🌟', '🍄', '⏰', '⛷'}, 21: {'🚽', '🐝', '🐱', '🎈', '🌹', '💔', '🎩', '🍀'}, 22: {'💧', '🐌', '🐱', '🚲', '🌊', '🎀', '🌴', '🐜'}, 23: {'🚽', '🍎', '💧', '🐴', '🍓', '🎺', '🌟', '🚑'}, 24: {'🎸', '🚲', '🍒', '🌹', '🍄', '🚑', '🐰', '✊'}, 25: {'🎵', '🐭', '🌊', '🍉', '🚤', '🚒', '🚑', '🍀'}, 26: {'🌋', '🎲', '🐬', '🚢', '🎈', '🚑', '🌴', '🚀'}, 27: {'⛺', '🐢', '👸', '🌵', '🎀', '🎩', '🚑', '⚽'}, 28: {'🐝', '🐌', '⚓', '🍺', '🌈', '🚑', '⛷', '⛄'}, 29: {'🏆', '💔', '🍦', '⏰', '🚑', '🍌', '👻', '🐜'}, 30: {'🐴', '⛺', '🎸', '⚓', '💔', '🍉', '🚓', '🌴'}, 31: {'🐰', '💧', '🎵', '🎈', '🌵', '⏰', '🚓', '⛄'}, 32: {'🚽', '🎲', '🐭', '🎀', '🌈', '🚓', '🍌', '✊'}, 33: {'🐬', '🚲', '🍺', '🌟', '🎩', '🚓', '🚒', '👻'}, 34: {'🍎', '🐢', '🐌', '🌹', '🚤', '🚓', '🍦', '🚀'}, 35: {'🐝', '🍓', '🚢', '🏆', '👸', '🌊', '🍄', '🚓'}, 36: {'🌋', '🎺', '🍒', '🚓', '⛷', '🍀', '⚽', '🐜'}, 37: {'🐴', '🎵', '🚢', '🐼', '🌹', '🎀', '⛷', '👻'}, 38: {'🍎', '🎲', '🐼', '🌊', '💔', '🍺', '🐰', '⚽'}, 39: {'🌋', '💧', '🐭', '⚓', '🐼', '🍄', '🎩', '🍦'}, 40: {'⛺', '🐌', '🐬', '🍓', '🐼', '⏰', '🍀', '✊'}, 41: {'🚽', '🐢', '🌴', '🏆', '🍒', '🐼', '🚒', '⛄'}, 42: {'🐝', '🚲', '🎺', '🌵', '🐼', '🍉', '🍌', '🚀'}, 43: {'🎸', '👸', '🎈', '🐼', '🌟', '🚤', '🌈', '🐜'}, 44: {'🎲', '🐴', '🐶', '🚲', '👸', '🍦', '🍀', '⛄'}, 45: {'🐶', '🍓', '⛷', '🚤', '🎩', '🐰', '🍌', '🌴'}, 46: {'🐌', '🐶', '🐭', '🚢', '🍒', '🌵', '💔', '🌟'}, 47: {'💧', '🐬', '🐶', '🏆', '🌹', '🍉', '🌈', '⚽'}, 48: {'🐢', '🐶', '🎺', '🎈', '⚓', '🌊', '✊', '👻'}, 49: {'🌋', '🍎', '🐝', '🐶', '🎸', '🎀', '⏰', '🚒'}, 50: {'🚽', '⛺', '🎵', '🐶', '🚀', '🍺', '🍄', '🐜'}, 51: {'🐴', '🍒', '🌊', '🌈', '⏰', '🎩', '🐸', '🚀'}, 52: {'🌋', '🚽', '🐌', '🐸', '👸', '🍉', '🐰', '👻'}, 53: {'🍎', '⛺', '🐭', '🚲', '🏆', '🎈', '⛷', '🐸'}, 54: {'🐬', '🎺', '💔', '🎀', '🍄', '🚤', '🐸', '⛄'}, 55: {'💧', '🐢', '🎸', '🚢', '🍺', '🍀', '🍌', '🐸'}, 56: {'🐝', '🎵', '🌟', '🍦', '⚽', '✊', '🐸', '🌴'}, 57: {'🎲', '🍓', '🌵', '⚓', '🌹', '🚒', '🐸', '🐜'}}\n"
     ]
    }
   ],
   "source": [
    "#here I am creating a new deck.  I take the old deck, and change the values of the set to their corresponding emojis.\n",
    "deck_with_images = dict()\n",
    "#iterate through the dictionary on each key, value.\n",
    "for key, value in deck.items():\n",
    "    #create a new card\n",
    "    card_with_images = set()\n",
    "    #for each number in the set.\n",
    "    for i in value:\n",
    "        #add the corresponding emoji.\n",
    "        card_with_images.add(imageDict[i])\n",
    "    #add the completed card to the new deck.\n",
    "    deck_with_images[key] = card_with_images \n",
    "        \n",
    "print(deck_with_images)"
   ]
  },
  {
   "cell_type": "code",
   "execution_count": 4,
   "metadata": {},
   "outputs": [],
   "source": [
    "#this is a function to check the validity of the dobble deck.\n",
    "def check_validity(deck, verbose=False):\n",
    "    #initialise counter for valid cards found.\n",
    "    valid_card=0\n",
    "    #iterate through the keys in the deck\n",
    "    for a in deck_with_images:\n",
    "        #initialise counter for cards with intersection value == 1 (1 matching image, valid pair).\n",
    "        count=0\n",
    "        #iterate through keys in the deck again.\n",
    "        for i in deck_with_images:\n",
    "            #produce output as each pair is checked, if verbose=True.\n",
    "            if verbose==True:\n",
    "                print(\"Checking\", a, \"against\", i, \"Matching image ID is\", deck_with_images[a].intersection(deck_with_images[i]))\n",
    "            #check the length of the set returned the the intersection of the 2 cards.\n",
    "            if len(deck_with_images[a].intersection(deck_with_images[i]))==1:\n",
    "                #increment count\n",
    "                count+=1\n",
    "            #this is to check if the current card in the deck has exactly the right amount of valid pairs.\n",
    "            if count==len(deck_with_images)-1:\n",
    "                valid_card+=1\n",
    "                #reset counter.  This is done inside the if statement, as it would not work for the 57th card.\n",
    "                count=0\n",
    "    #check if the amount of valid cards is equal to length of the deck.            \n",
    "    if valid_card==len(deck_with_images):\n",
    "        return True\n",
    "    else:\n",
    "        return False\n"
   ]
  },
  {
   "cell_type": "code",
   "execution_count": 5,
   "metadata": {},
   "outputs": [
    {
     "data": {
      "text/plain": [
       "True"
      ]
     },
     "execution_count": 5,
     "metadata": {},
     "output_type": "execute_result"
    }
   ],
   "source": [
    "check_validity(deck_with_images)"
   ]
  },
  {
   "cell_type": "code",
   "execution_count": 6,
   "metadata": {},
   "outputs": [],
   "source": [
    "import random\n",
    "\n",
    "class DobbleDeck():\n",
    "    #initialise the deck taking one parameter from the user, the number of cards to be \"dealt\" from the main deck \n",
    "    def __init__(self, numcards):\n",
    "        #create an array to store a fresh full deck of cards (from the \"master deck\", above)\n",
    "        self.fresh_deck=[]\n",
    "        #these are the cards that are \"dealt\" from the fresh deck for the new game\n",
    "        self.game_deck=[]\n",
    "        #populate the array with cards\n",
    "        for i in range(1, len(deck_with_images)+1):\n",
    "            #calling the add card method, which returns a card from the \"master deck\"\n",
    "            self.fresh_deck.append(self.add_card(i))\n",
    "        #re-order the cards randomly\n",
    "        random.shuffle(self.fresh_deck)\n",
    "        #\"deal\" the user defined number of cards to be used for the game.\n",
    "        #I have started at 1 because 1-57 are the key values of the \"master deck\", not 0-56. \n",
    "        for i in range(1, numcards+2):\n",
    "            self.game_deck.append(self.fresh_deck[i])\n",
    "    def add_card(self, card_number):\n",
    "        #creating a new instance of a card object\n",
    "        return DobbleCard(card_number)\n",
    "    def remove_card(self):\n",
    "        #discard the top card from the \"game deck\"\n",
    "        del self.game_deck[0]\n",
    "    def play_cards(self):\n",
    "        #creating a copy of the top 2 cards in the deck.  When I pop a card it permanently removes it.  As i will be re-using\n",
    "        #card 2 in the next round, I want to ensure that there will still be 8 images in the set\n",
    "        clone_image_set1 = set(self.game_deck[0].card)\n",
    "        clone_image_set2 = set(self.game_deck[1].card)\n",
    "        #create 2 new arrays (for indexing)\n",
    "        card1= []\n",
    "        card2= []\n",
    "        #loop through and pop images from set into the new array (to facilitate indexing for printing)\n",
    "        for i in range (8):\n",
    "            card1.append(clone_image_set1.pop())\n",
    "            card2.append(clone_image_set2.pop())\n",
    "        #print the cards in the same style as shown in the example.\n",
    "        print(card1[0], card1[1], card1[2], \"\\t\", card2[0], card2[1], card2[2])\n",
    "        print(card1[3], card1[4], card1[5], \"\\t\", card2[3], card2[4], card2[5])\n",
    "        print(card1[6], card1[7], \"\\t\\t\", card2[6], card2[7])\n",
    "\n",
    "\n",
    "class DobbleCard():\n",
    "    def __init__(self, card_number):\n",
    "        #select a card from the \"master deck\" (deck_with_images, above)\n",
    "        self.card = deck_with_images[card_number]\n",
    "        "
   ]
  },
  {
   "cell_type": "code",
   "execution_count": 7,
   "metadata": {},
   "outputs": [],
   "source": [
    "def run_dobble():\n",
    "    #here i am initialising the \"win counter\" for player A, player B, and draw.  Also starting to count the rounds.\n",
    "    num_wins_a=0\n",
    "    num_wins_b=0\n",
    "    num_draws=0\n",
    "    num_rounds=0\n",
    "    \n",
    "    #prompt for input / number of rounds and save to variable\n",
    "    num_cards = input(\"How many rounds (<56)? \")\n",
    "    #create boolean flag\n",
    "    isvalid = False\n",
    "    while not isvalid:\n",
    "        #check if number is an integer\n",
    "        try:\n",
    "            int(num_cards)\n",
    "        except:\n",
    "            #error message\n",
    "            print(\"That's not valid input\")\n",
    "        else:\n",
    "            #also check if number is less than 56 and greater than 0.\n",
    "            if 0 < int(num_cards) < 56:\n",
    "                #change boolean flag to true (exit the loop)\n",
    "                isvalid = True\n",
    "            else:\n",
    "               #error message\n",
    "                print(\"That's not valid input\")\n",
    "                \n",
    "        \n",
    "        if not isvalid:\n",
    "            #re-prompt and go through while loop again\n",
    "            num_cards = input(\"How many rounds (<56)? \")\n",
    "            \n",
    "    #create an instance of DobbleDeck\n",
    "    this_game = DobbleDeck(int(num_cards))\n",
    "    \n",
    "    #keep playing until you reach the user defined limit / (or run out of generated cards!)\n",
    "    while num_rounds < int(num_cards):\n",
    "        print(\"If you want to record a draw type 'd' or 'D'\")\n",
    "        #display the top 2 cards in the deck\n",
    "        this_game.play_cards()\n",
    "        print()\n",
    "        #prompt user for who won.\n",
    "        winner = input(\"Who wins (A or B)? \")\n",
    "        print()\n",
    "        \n",
    "        #create array of suitable responses, and check user input against this.\n",
    "        tester= \"A B D a b d\".split()\n",
    "        while winner == \"\" or winner not in tester:\n",
    "            print(\"This is not valid\")\n",
    "            print()\n",
    "            winner = input(\"Who wins (A or B)? \")\n",
    "            print()\n",
    "        \n",
    "        #check who won and incriment the appropriate counter.\n",
    "        if winner == \"A\" or winner == \"a\":\n",
    "            num_wins_a += 1\n",
    "        elif winner == \"B\" or winner == \"b\":\n",
    "            num_wins_b += 1\n",
    "        else:\n",
    "            num_draws += 1\n",
    "        #remove the top card from the deck.\n",
    "        this_game.remove_card()\n",
    "        #incriment number of rounds.\n",
    "        num_rounds+=1\n",
    "    #print results\n",
    "    print()\n",
    "    print(\"Score\")\n",
    "    print(\"A: \", num_wins_a)\n",
    "    print(\"B: \", num_wins_b)"
   ]
  },
  {
   "cell_type": "code",
   "execution_count": 8,
   "metadata": {},
   "outputs": [
    {
     "name": "stdout",
     "output_type": "stream",
     "text": [
      "How many rounds (<56)? 5\n",
      "If you want to record a draw type 'd' or 'D'\n",
      "🐴 🐢 🐬 \t 🌋 🍎 🐝\n",
      "🐝 🐭 🐰 \t 🐶 🎸 🎀\n",
      "👽 🐜 \t\t ⏰ 🚒\n",
      "\n",
      "Who wins (A or B)? a\n",
      "\n",
      "If you want to record a draw type 'd' or 'D'\n",
      "🌋 🍎 🐝 \t 🌋 🚽 🐌\n",
      "🐶 🎸 🎀 \t 🐸 👸 🍉\n",
      "⏰ 🚒 \t\t 🐰 👻\n",
      "\n",
      "Who wins (A or B)? A\n",
      "\n",
      "If you want to record a draw type 'd' or 'D'\n",
      "🌋 🚽 🐌 \t 🍎 🌵 🍄\n",
      "🐸 👸 🍉 \t 🌈 🍀 👽\n",
      "🐰 👻 \t\t 👻 🌴\n",
      "\n",
      "Who wins (A or B)? B\n",
      "\n",
      "If you want to record a draw type 'd' or 'D'\n",
      "🍎 🌵 🍄 \t 💧 🐬 🐶\n",
      "🌈 🍀 👽 \t 🏆 🌹 🍉\n",
      "👻 🌴 \t\t 🌈 ⚽\n",
      "\n",
      "Who wins (A or B)? B\n",
      "\n",
      "If you want to record a draw type 'd' or 'D'\n",
      "💧 🐬 🐶 \t 🚽 ⛺ 🎵\n",
      "🏆 🌹 🍉 \t 🐶 🚀 🍺\n",
      "🌈 ⚽ \t\t 🍄 🐜\n",
      "\n",
      "Who wins (A or B)? B\n",
      "\n",
      "\n",
      "Score\n",
      "A:  2\n",
      "B:  3\n"
     ]
    }
   ],
   "source": [
    "run_dobble()"
   ]
  },
  {
   "cell_type": "code",
   "execution_count": null,
   "metadata": {},
   "outputs": [],
   "source": []
  },
  {
   "cell_type": "code",
   "execution_count": null,
   "metadata": {},
   "outputs": [],
   "source": []
  }
 ],
 "metadata": {
  "kernelspec": {
   "display_name": "Python 3",
   "language": "python",
   "name": "python3"
  },
  "language_info": {
   "codemirror_mode": {
    "name": "ipython",
    "version": 3
   },
   "file_extension": ".py",
   "mimetype": "text/x-python",
   "name": "python",
   "nbconvert_exporter": "python",
   "pygments_lexer": "ipython3",
   "version": "3.7.1"
  }
 },
 "nbformat": 4,
 "nbformat_minor": 1
}
